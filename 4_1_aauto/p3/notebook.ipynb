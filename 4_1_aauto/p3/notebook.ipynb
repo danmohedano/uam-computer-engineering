{
 "cells": [
  {
   "cell_type": "markdown",
   "metadata": {},
   "source": [
    "**Pareja 6**\n",
    "\n",
    "**Daniel Mohedano**\n",
    "\n",
    "**Silvia Sopeña**"
   ]
  },
  {
   "cell_type": "code",
   "execution_count": 1,
   "metadata": {},
   "outputs": [],
   "source": [
    "from Datos import Datos\n",
    "from clasificador import ClasificadorKNN, ClasificadorRegresionLogistica, ClasificadorNaiveBayes\n",
    "from EstrategiaParticionado import ValidacionSimple, ValidacionCruzada\n",
    "import numpy as np\n",
    "import pandas as pd"
   ]
  },
  {
   "cell_type": "markdown",
   "metadata": {},
   "source": [
    "# Apartado 1"
   ]
  },
  {
   "cell_type": "code",
   "execution_count": 2,
   "metadata": {},
   "outputs": [],
   "source": [
    "datos_pima = Datos('data/pima-indians-diabetes.data')\n",
    "datos_wdbc = Datos('data/wdbc.data')\n",
    "\n",
    "particion = ValidacionCruzada(5)\n",
    "seed = 29\n",
    "\n",
    "aprendizaje_const = list(np.linspace(0.1, 1.0, 10))\n",
    "n_epochs = list(range(1,10, 2))"
   ]
  },
  {
   "cell_type": "code",
   "execution_count": 3,
   "metadata": {},
   "outputs": [],
   "source": [
    "def calculate_results(datos):\n",
    "    results = []\n",
    "    for n in n_epochs:\n",
    "        result_parcial = []\n",
    "        for c in aprendizaje_const:\n",
    "            error, std = ClasificadorRegresionLogistica(n_epochs=n, const=c).validacion(particion, datos, seed)\n",
    "            result_parcial.append('{:.6f} +/- {:.6f}'.format(error, std))\n",
    "        results.append(result_parcial)\n",
    "        \n",
    "    return results\n",
    "\n",
    "def results_dataframe(results, name):\n",
    "    df = pd.DataFrame(results,\n",
    "                           columns=['$\\eta$={:.2f}'.format(c) for c in aprendizaje_const],\n",
    "                           index=n_epochs)\n",
    "    df.index.name = 'N_epochs'\n",
    "    df = df.style.set_caption(name)\n",
    "    return df"
   ]
  },
  {
   "cell_type": "code",
   "execution_count": 4,
   "metadata": {},
   "outputs": [],
   "source": [
    "results_pima = calculate_results(datos_pima)\n",
    "df_pima = results_dataframe(results_pima, 'Pima-Indian-Diabetes')\n",
    "results_wdbc = calculate_results(datos_wdbc)\n",
    "df_wdbc = results_dataframe(results_wdbc, 'WDBC')"
   ]
  },
  {
   "cell_type": "code",
   "execution_count": 5,
   "metadata": {},
   "outputs": [
    {
     "data": {
      "text/html": [
       "<style type=\"text/css\">\n",
       "</style>\n",
       "<table id=\"T_82c81_\">\n",
       "  <caption>Pima-Indian-Diabetes</caption>\n",
       "  <thead>\n",
       "    <tr>\n",
       "      <th class=\"blank level0\" >&nbsp;</th>\n",
       "      <th class=\"col_heading level0 col0\" >$\\eta$=0.10</th>\n",
       "      <th class=\"col_heading level0 col1\" >$\\eta$=0.20</th>\n",
       "      <th class=\"col_heading level0 col2\" >$\\eta$=0.30</th>\n",
       "      <th class=\"col_heading level0 col3\" >$\\eta$=0.40</th>\n",
       "      <th class=\"col_heading level0 col4\" >$\\eta$=0.50</th>\n",
       "      <th class=\"col_heading level0 col5\" >$\\eta$=0.60</th>\n",
       "      <th class=\"col_heading level0 col6\" >$\\eta$=0.70</th>\n",
       "      <th class=\"col_heading level0 col7\" >$\\eta$=0.80</th>\n",
       "      <th class=\"col_heading level0 col8\" >$\\eta$=0.90</th>\n",
       "      <th class=\"col_heading level0 col9\" >$\\eta$=1.00</th>\n",
       "    </tr>\n",
       "    <tr>\n",
       "      <th class=\"index_name level0\" >N_epochs</th>\n",
       "      <th class=\"blank col0\" >&nbsp;</th>\n",
       "      <th class=\"blank col1\" >&nbsp;</th>\n",
       "      <th class=\"blank col2\" >&nbsp;</th>\n",
       "      <th class=\"blank col3\" >&nbsp;</th>\n",
       "      <th class=\"blank col4\" >&nbsp;</th>\n",
       "      <th class=\"blank col5\" >&nbsp;</th>\n",
       "      <th class=\"blank col6\" >&nbsp;</th>\n",
       "      <th class=\"blank col7\" >&nbsp;</th>\n",
       "      <th class=\"blank col8\" >&nbsp;</th>\n",
       "      <th class=\"blank col9\" >&nbsp;</th>\n",
       "    </tr>\n",
       "  </thead>\n",
       "  <tbody>\n",
       "    <tr>\n",
       "      <th id=\"T_82c81_level0_row0\" class=\"row_heading level0 row0\" >1</th>\n",
       "      <td id=\"T_82c81_row0_col0\" class=\"data row0 col0\" >0.458348 +/- 0.074785</td>\n",
       "      <td id=\"T_82c81_row0_col1\" class=\"data row0 col1\" >0.449079 +/- 0.064034</td>\n",
       "      <td id=\"T_82c81_row0_col2\" class=\"data row0 col2\" >0.503854 +/- 0.050786</td>\n",
       "      <td id=\"T_82c81_row0_col3\" class=\"data row0 col3\" >0.480477 +/- 0.048455</td>\n",
       "      <td id=\"T_82c81_row0_col4\" class=\"data row0 col4\" >0.480477 +/- 0.048455</td>\n",
       "      <td id=\"T_82c81_row0_col5\" class=\"data row0 col5\" >0.460997 +/- 0.039840</td>\n",
       "      <td id=\"T_82c81_row0_col6\" class=\"data row0 col6\" >0.428529 +/- 0.064537</td>\n",
       "      <td id=\"T_82c81_row0_col7\" class=\"data row0 col7\" >0.458399 +/- 0.070021</td>\n",
       "      <td id=\"T_82c81_row0_col8\" class=\"data row0 col8\" >0.471386 +/- 0.084641</td>\n",
       "      <td id=\"T_82c81_row0_col9\" class=\"data row0 col9\" >0.448010 +/- 0.093022</td>\n",
       "    </tr>\n",
       "    <tr>\n",
       "      <th id=\"T_82c81_level0_row1\" class=\"row_heading level0 row1\" >3</th>\n",
       "      <td id=\"T_82c81_row1_col0\" class=\"data row1 col0\" >0.484467 +/- 0.075704</td>\n",
       "      <td id=\"T_82c81_row1_col1\" class=\"data row1 col1\" >0.453153 +/- 0.088881</td>\n",
       "      <td id=\"T_82c81_row1_col2\" class=\"data row1 col2\" >0.472634 +/- 0.051337</td>\n",
       "      <td id=\"T_82c81_row1_col3\" class=\"data row1 col3\" >0.479221 +/- 0.039005</td>\n",
       "      <td id=\"T_82c81_row1_col4\" class=\"data row1 col4\" >0.484331 +/- 0.035428</td>\n",
       "      <td id=\"T_82c81_row1_col5\" class=\"data row1 col5\" >0.451838 +/- 0.032423</td>\n",
       "      <td id=\"T_82c81_row1_col6\" class=\"data row1 col6\" >0.483134 +/- 0.055904</td>\n",
       "      <td id=\"T_82c81_row1_col7\" class=\"data row1 col7\" >0.458459 +/- 0.048998</td>\n",
       "      <td id=\"T_82c81_row1_col8\" class=\"data row1 col8\" >0.438740 +/- 0.064468</td>\n",
       "      <td id=\"T_82c81_row1_col9\" class=\"data row1 col9\" >0.457049 +/- 0.033937</td>\n",
       "    </tr>\n",
       "    <tr>\n",
       "      <th id=\"T_82c81_level0_row2\" class=\"row_heading level0 row2\" >5</th>\n",
       "      <td id=\"T_82c81_row2_col0\" class=\"data row2 col0\" >0.502818 +/- 0.076342</td>\n",
       "      <td id=\"T_82c81_row2_col1\" class=\"data row2 col1\" >0.466106 +/- 0.062634</td>\n",
       "      <td id=\"T_82c81_row2_col2\" class=\"data row2 col2\" >0.466208 +/- 0.064823</td>\n",
       "      <td id=\"T_82c81_row2_col3\" class=\"data row2 col3\" >0.454444 +/- 0.039005</td>\n",
       "      <td id=\"T_82c81_row2_col4\" class=\"data row2 col4\" >0.468823 +/- 0.038185</td>\n",
       "      <td id=\"T_82c81_row2_col5\" class=\"data row2 col5\" >0.412945 +/- 0.078099</td>\n",
       "      <td id=\"T_82c81_row2_col6\" class=\"data row2 col6\" >0.449351 +/- 0.064855</td>\n",
       "      <td id=\"T_82c81_row2_col7\" class=\"data row2 col7\" >0.479229 +/- 0.053805</td>\n",
       "      <td id=\"T_82c81_row2_col8\" class=\"data row2 col8\" >0.477905 +/- 0.031645</td>\n",
       "      <td id=\"T_82c81_row2_col9\" class=\"data row2 col9\" >0.449325 +/- 0.053178</td>\n",
       "    </tr>\n",
       "    <tr>\n",
       "      <th id=\"T_82c81_level0_row3\" class=\"row_heading level0 row3\" >7</th>\n",
       "      <td id=\"T_82c81_row3_col0\" class=\"data row3 col0\" >0.509031 +/- 0.058020</td>\n",
       "      <td id=\"T_82c81_row3_col1\" class=\"data row3 col1\" >0.455590 +/- 0.062012</td>\n",
       "      <td id=\"T_82c81_row3_col2\" class=\"data row3 col2\" >0.487115 +/- 0.084668</td>\n",
       "      <td id=\"T_82c81_row3_col3\" class=\"data row3 col3\" >0.458178 +/- 0.077517</td>\n",
       "      <td id=\"T_82c81_row3_col4\" class=\"data row3 col4\" >0.471454 +/- 0.054449</td>\n",
       "      <td id=\"T_82c81_row3_col5\" class=\"data row3 col5\" >0.475537 +/- 0.095033</td>\n",
       "      <td id=\"T_82c81_row3_col6\" class=\"data row3 col6\" >0.451770 +/- 0.047200</td>\n",
       "      <td id=\"T_82c81_row3_col7\" class=\"data row3 col7\" >0.485646 +/- 0.022831</td>\n",
       "      <td id=\"T_82c81_row3_col8\" class=\"data row3 col8\" >0.485655 +/- 0.042941</td>\n",
       "      <td id=\"T_82c81_row3_col9\" class=\"data row3 col9\" >0.452050 +/- 0.092149</td>\n",
       "    </tr>\n",
       "    <tr>\n",
       "      <th id=\"T_82c81_level0_row4\" class=\"row_heading level0 row4\" >9</th>\n",
       "      <td id=\"T_82c81_row4_col0\" class=\"data row4 col0\" >0.427264 +/- 0.080640</td>\n",
       "      <td id=\"T_82c81_row4_col1\" class=\"data row4 col1\" >0.493523 +/- 0.035526</td>\n",
       "      <td id=\"T_82c81_row4_col2\" class=\"data row4 col2\" >0.489780 +/- 0.071618</td>\n",
       "      <td id=\"T_82c81_row4_col3\" class=\"data row4 col3\" >0.448035 +/- 0.051082</td>\n",
       "      <td id=\"T_82c81_row4_col4\" class=\"data row4 col4\" >0.454410 +/- 0.090902</td>\n",
       "      <td id=\"T_82c81_row4_col5\" class=\"data row4 col5\" >0.509278 +/- 0.059867</td>\n",
       "      <td id=\"T_82c81_row4_col6\" class=\"data row4 col6\" >0.474136 +/- 0.078875</td>\n",
       "      <td id=\"T_82c81_row4_col7\" class=\"data row4 col7\" >0.493532 +/- 0.038005</td>\n",
       "      <td id=\"T_82c81_row4_col8\" class=\"data row4 col8\" >0.479331 +/- 0.075637</td>\n",
       "      <td id=\"T_82c81_row4_col9\" class=\"data row4 col9\" >0.457016 +/- 0.016144</td>\n",
       "    </tr>\n",
       "  </tbody>\n",
       "</table>\n"
      ],
      "text/plain": [
       "<pandas.io.formats.style.Styler at 0x7f6666d79610>"
      ]
     },
     "metadata": {},
     "output_type": "display_data"
    },
    {
     "data": {
      "text/html": [
       "<style type=\"text/css\">\n",
       "</style>\n",
       "<table id=\"T_5ebf4_\">\n",
       "  <caption>WDBC</caption>\n",
       "  <thead>\n",
       "    <tr>\n",
       "      <th class=\"blank level0\" >&nbsp;</th>\n",
       "      <th class=\"col_heading level0 col0\" >$\\eta$=0.10</th>\n",
       "      <th class=\"col_heading level0 col1\" >$\\eta$=0.20</th>\n",
       "      <th class=\"col_heading level0 col2\" >$\\eta$=0.30</th>\n",
       "      <th class=\"col_heading level0 col3\" >$\\eta$=0.40</th>\n",
       "      <th class=\"col_heading level0 col4\" >$\\eta$=0.50</th>\n",
       "      <th class=\"col_heading level0 col5\" >$\\eta$=0.60</th>\n",
       "      <th class=\"col_heading level0 col6\" >$\\eta$=0.70</th>\n",
       "      <th class=\"col_heading level0 col7\" >$\\eta$=0.80</th>\n",
       "      <th class=\"col_heading level0 col8\" >$\\eta$=0.90</th>\n",
       "      <th class=\"col_heading level0 col9\" >$\\eta$=1.00</th>\n",
       "    </tr>\n",
       "    <tr>\n",
       "      <th class=\"index_name level0\" >N_epochs</th>\n",
       "      <th class=\"blank col0\" >&nbsp;</th>\n",
       "      <th class=\"blank col1\" >&nbsp;</th>\n",
       "      <th class=\"blank col2\" >&nbsp;</th>\n",
       "      <th class=\"blank col3\" >&nbsp;</th>\n",
       "      <th class=\"blank col4\" >&nbsp;</th>\n",
       "      <th class=\"blank col5\" >&nbsp;</th>\n",
       "      <th class=\"blank col6\" >&nbsp;</th>\n",
       "      <th class=\"blank col7\" >&nbsp;</th>\n",
       "      <th class=\"blank col8\" >&nbsp;</th>\n",
       "      <th class=\"blank col9\" >&nbsp;</th>\n",
       "    </tr>\n",
       "  </thead>\n",
       "  <tbody>\n",
       "    <tr>\n",
       "      <th id=\"T_5ebf4_level0_row0\" class=\"row_heading level0 row0\" >1</th>\n",
       "      <td id=\"T_5ebf4_row0_col0\" class=\"data row0 col0\" >0.214237 +/- 0.089507</td>\n",
       "      <td id=\"T_5ebf4_row0_col1\" class=\"data row0 col1\" >0.259851 +/- 0.074782</td>\n",
       "      <td id=\"T_5ebf4_row0_col2\" class=\"data row0 col2\" >0.259851 +/- 0.074782</td>\n",
       "      <td id=\"T_5ebf4_row0_col3\" class=\"data row0 col3\" >0.259851 +/- 0.074782</td>\n",
       "      <td id=\"T_5ebf4_row0_col4\" class=\"data row0 col4\" >0.259851 +/- 0.074782</td>\n",
       "      <td id=\"T_5ebf4_row0_col5\" class=\"data row0 col5\" >0.259851 +/- 0.074782</td>\n",
       "      <td id=\"T_5ebf4_row0_col6\" class=\"data row0 col6\" >0.259851 +/- 0.074782</td>\n",
       "      <td id=\"T_5ebf4_row0_col7\" class=\"data row0 col7\" >0.259851 +/- 0.074782</td>\n",
       "      <td id=\"T_5ebf4_row0_col8\" class=\"data row0 col8\" >0.259851 +/- 0.074782</td>\n",
       "      <td id=\"T_5ebf4_row0_col9\" class=\"data row0 col9\" >0.259851 +/- 0.074782</td>\n",
       "    </tr>\n",
       "    <tr>\n",
       "      <th id=\"T_5ebf4_level0_row1\" class=\"row_heading level0 row1\" >3</th>\n",
       "      <td id=\"T_5ebf4_row1_col0\" class=\"data row1 col0\" >0.142369 +/- 0.042444</td>\n",
       "      <td id=\"T_5ebf4_row1_col1\" class=\"data row1 col1\" >0.163406 +/- 0.069788</td>\n",
       "      <td id=\"T_5ebf4_row1_col2\" class=\"data row1 col2\" >0.161792 +/- 0.086497</td>\n",
       "      <td id=\"T_5ebf4_row1_col3\" class=\"data row1 col3\" >0.146002 +/- 0.078552</td>\n",
       "      <td id=\"T_5ebf4_row1_col4\" class=\"data row1 col4\" >0.146002 +/- 0.078552</td>\n",
       "      <td id=\"T_5ebf4_row1_col5\" class=\"data row1 col5\" >0.156528 +/- 0.069517</td>\n",
       "      <td id=\"T_5ebf4_row1_col6\" class=\"data row1 col6\" >0.184599 +/- 0.058950</td>\n",
       "      <td id=\"T_5ebf4_row1_col7\" class=\"data row1 col7\" >0.184599 +/- 0.058950</td>\n",
       "      <td id=\"T_5ebf4_row1_col8\" class=\"data row1 col8\" >0.184599 +/- 0.058950</td>\n",
       "      <td id=\"T_5ebf4_row1_col9\" class=\"data row1 col9\" >0.161590 +/- 0.062503</td>\n",
       "    </tr>\n",
       "    <tr>\n",
       "      <th id=\"T_5ebf4_level0_row2\" class=\"row_heading level0 row2\" >5</th>\n",
       "      <td id=\"T_5ebf4_row2_col0\" class=\"data row2 col0\" >0.149480 +/- 0.047153</td>\n",
       "      <td id=\"T_5ebf4_row2_col1\" class=\"data row2 col1\" >0.102127 +/- 0.057722</td>\n",
       "      <td id=\"T_5ebf4_row2_col2\" class=\"data row2 col2\" >0.114361 +/- 0.041701</td>\n",
       "      <td id=\"T_5ebf4_row2_col3\" class=\"data row2 col3\" >0.119671 +/- 0.052287</td>\n",
       "      <td id=\"T_5ebf4_row2_col4\" class=\"data row2 col4\" >0.135460 +/- 0.046564</td>\n",
       "      <td id=\"T_5ebf4_row2_col5\" class=\"data row2 col5\" >0.126688 +/- 0.050439</td>\n",
       "      <td id=\"T_5ebf4_row2_col6\" class=\"data row2 col6\" >0.110899 +/- 0.053225</td>\n",
       "      <td id=\"T_5ebf4_row2_col7\" class=\"data row2 col7\" >0.110899 +/- 0.053225</td>\n",
       "      <td id=\"T_5ebf4_row2_col8\" class=\"data row2 col8\" >0.110899 +/- 0.053225</td>\n",
       "      <td id=\"T_5ebf4_row2_col9\" class=\"data row2 col9\" >0.110899 +/- 0.053225</td>\n",
       "    </tr>\n",
       "    <tr>\n",
       "      <th id=\"T_5ebf4_level0_row3\" class=\"row_heading level0 row3\" >7</th>\n",
       "      <td id=\"T_5ebf4_row3_col0\" class=\"data row3 col0\" >0.102065 +/- 0.040044</td>\n",
       "      <td id=\"T_5ebf4_row3_col1\" class=\"data row3 col1\" >0.100326 +/- 0.045882</td>\n",
       "      <td id=\"T_5ebf4_row3_col2\" class=\"data row3 col2\" >0.128396 +/- 0.048302</td>\n",
       "      <td id=\"T_5ebf4_row3_col3\" class=\"data row3 col3\" >0.131905 +/- 0.056612</td>\n",
       "      <td id=\"T_5ebf4_row3_col4\" class=\"data row3 col4\" >0.117870 +/- 0.059242</td>\n",
       "      <td id=\"T_5ebf4_row3_col5\" class=\"data row3 col5\" >0.128396 +/- 0.050787</td>\n",
       "      <td id=\"T_5ebf4_row3_col6\" class=\"data row3 col6\" >0.130151 +/- 0.049175</td>\n",
       "      <td id=\"T_5ebf4_row3_col7\" class=\"data row3 col7\" >0.107235 +/- 0.048565</td>\n",
       "      <td id=\"T_5ebf4_row3_col8\" class=\"data row3 col8\" >0.107235 +/- 0.048565</td>\n",
       "      <td id=\"T_5ebf4_row3_col9\" class=\"data row3 col9\" >0.103695 +/- 0.047862</td>\n",
       "    </tr>\n",
       "    <tr>\n",
       "      <th id=\"T_5ebf4_level0_row4\" class=\"row_heading level0 row4\" >9</th>\n",
       "      <td id=\"T_5ebf4_row4_col0\" class=\"data row4 col0\" >0.145925 +/- 0.030996</td>\n",
       "      <td id=\"T_5ebf4_row4_col1\" class=\"data row4 col1\" >0.112467 +/- 0.042003</td>\n",
       "      <td id=\"T_5ebf4_row4_col2\" class=\"data row4 col2\" >0.105449 +/- 0.036802</td>\n",
       "      <td id=\"T_5ebf4_row4_col3\" class=\"data row4 col3\" >0.100186 +/- 0.011987</td>\n",
       "      <td id=\"T_5ebf4_row4_col4\" class=\"data row4 col4\" >0.112483 +/- 0.022486</td>\n",
       "      <td id=\"T_5ebf4_row4_col5\" class=\"data row4 col5\" >0.108974 +/- 0.024608</td>\n",
       "      <td id=\"T_5ebf4_row4_col6\" class=\"data row4 col6\" >0.107204 +/- 0.024425</td>\n",
       "      <td id=\"T_5ebf4_row4_col7\" class=\"data row4 col7\" >0.103726 +/- 0.034054</td>\n",
       "      <td id=\"T_5ebf4_row4_col8\" class=\"data row4 col8\" >0.103726 +/- 0.034054</td>\n",
       "      <td id=\"T_5ebf4_row4_col9\" class=\"data row4 col9\" >0.101956 +/- 0.033179</td>\n",
       "    </tr>\n",
       "  </tbody>\n",
       "</table>\n"
      ],
      "text/plain": [
       "<pandas.io.formats.style.Styler at 0x7f6666d79130>"
      ]
     },
     "metadata": {},
     "output_type": "display_data"
    }
   ],
   "source": [
    "display(df_pima)\n",
    "display(df_wdbc)"
   ]
  },
  {
   "cell_type": "markdown",
   "metadata": {},
   "source": [
    "A primera vista se pueden llegar a dos conclusiones muy claras: el dataset 'pima-indians-diabetes' no es linealmente separable mientras que el dataset 'wdbc' si que lo es. Esto se puede ver por los resultados generales del error. En el primer dataset el error está siempre alrededor del 0.5, lo que significa que a efectos prácticos es como clasificar aleatoriamente. En cambio para el segundo dataset los resultados son muchisimo mejores, obteniendo errores de alrededor de 0.1 en las mejores situaciones.\n",
    "\n",
    "En cuanto a los hiperparámetros, aumentar el número de épocas claramente mejora los resultados obtenidos, aunque los cambios son cada vez más pequeños a medida que aumentamos el número. En cuanto a la constante de aprendizaje, es dificil llegar a ninguna conclusión acerca de su impacto. Para algunos números de épocas, aumentarla mejora el rendimiento, pero para otras lo empeora. Evidentemente, cuanto menor es la constante, menos tiende el clasificador al over-fitting, pero más tiende a under-fitting.   "
   ]
  },
  {
   "cell_type": "markdown",
   "metadata": {},
   "source": [
    "# Apartado 2"
   ]
  },
  {
   "cell_type": "code",
   "execution_count": 6,
   "metadata": {},
   "outputs": [],
   "source": [
    "def warn(*args, **kwargs):\n",
    "    pass\n",
    "import warnings\n",
    "warnings.warn = warn\n",
    "\n",
    "from sklearn import linear_model\n",
    "from sklearn import model_selection\n",
    "\n",
    "x_pima = datos_pima.datos.to_numpy()[:, :-1]\n",
    "x_wdbc = datos_wdbc.datos.to_numpy()[:, :-1]\n",
    "y_pima = datos_pima.datos.to_numpy()[:,-1]\n",
    "y_wdbc = datos_wdbc.datos.to_numpy()[:,-1]\n",
    "\n",
    "particion_sk = model_selection.KFold(n_splits=5, shuffle=True)"
   ]
  },
  {
   "cell_type": "code",
   "execution_count": 7,
   "metadata": {},
   "outputs": [],
   "source": [
    "def calculate_results_sk_sgd(data_x, data_y):\n",
    "    results_sk = []\n",
    "\n",
    "    for n in n_epochs:\n",
    "        result_parcial = []\n",
    "        for c in aprendizaje_const:\n",
    "            scores = []\n",
    "            for train_index, test_index in particion_sk.split(data_x):\n",
    "                x = data_x.copy()\n",
    "                y = data_y.copy()\n",
    "                \n",
    "                model = linear_model.SGDClassifier(loss='log', learning_rate='constant', eta0=c, max_iter=n)\n",
    "                model.fit(x[train_index], y[train_index])\n",
    "\n",
    "                scores.append(model.score(x[test_index], y[test_index]))\n",
    "\n",
    "            result_parcial.append('{:.6f} +/- {:.6f}'.format(1 - np.mean(scores), np.std(scores)))\n",
    "\n",
    "        results_sk.append(result_parcial)\n",
    "        \n",
    "    return results_sk"
   ]
  },
  {
   "cell_type": "code",
   "execution_count": 8,
   "metadata": {},
   "outputs": [],
   "source": [
    "results_pima_sk_sgd = calculate_results_sk_sgd(x_pima, y_pima)\n",
    "df_pima_sk_sgd = results_dataframe(results_pima_sk_sgd, 'Pima-Indian-Diabetes (SGDClassifier)')\n",
    "\n",
    "results_wdbc_sk_sgd = calculate_results_sk_sgd(x_wdbc, y_wdbc)\n",
    "df_wdbc_sk_sgd = results_dataframe(results_wdbc_sk_sgd, 'WDBC (SGDClassifier)')"
   ]
  },
  {
   "cell_type": "code",
   "execution_count": 9,
   "metadata": {
    "scrolled": false
   },
   "outputs": [
    {
     "data": {
      "text/html": [
       "<style type=\"text/css\">\n",
       "</style>\n",
       "<table id=\"T_621f2_\">\n",
       "  <caption>Pima-Indian-Diabetes (SGDClassifier)</caption>\n",
       "  <thead>\n",
       "    <tr>\n",
       "      <th class=\"blank level0\" >&nbsp;</th>\n",
       "      <th class=\"col_heading level0 col0\" >$\\eta$=0.10</th>\n",
       "      <th class=\"col_heading level0 col1\" >$\\eta$=0.20</th>\n",
       "      <th class=\"col_heading level0 col2\" >$\\eta$=0.30</th>\n",
       "      <th class=\"col_heading level0 col3\" >$\\eta$=0.40</th>\n",
       "      <th class=\"col_heading level0 col4\" >$\\eta$=0.50</th>\n",
       "      <th class=\"col_heading level0 col5\" >$\\eta$=0.60</th>\n",
       "      <th class=\"col_heading level0 col6\" >$\\eta$=0.70</th>\n",
       "      <th class=\"col_heading level0 col7\" >$\\eta$=0.80</th>\n",
       "      <th class=\"col_heading level0 col8\" >$\\eta$=0.90</th>\n",
       "      <th class=\"col_heading level0 col9\" >$\\eta$=1.00</th>\n",
       "    </tr>\n",
       "    <tr>\n",
       "      <th class=\"index_name level0\" >N_epochs</th>\n",
       "      <th class=\"blank col0\" >&nbsp;</th>\n",
       "      <th class=\"blank col1\" >&nbsp;</th>\n",
       "      <th class=\"blank col2\" >&nbsp;</th>\n",
       "      <th class=\"blank col3\" >&nbsp;</th>\n",
       "      <th class=\"blank col4\" >&nbsp;</th>\n",
       "      <th class=\"blank col5\" >&nbsp;</th>\n",
       "      <th class=\"blank col6\" >&nbsp;</th>\n",
       "      <th class=\"blank col7\" >&nbsp;</th>\n",
       "      <th class=\"blank col8\" >&nbsp;</th>\n",
       "      <th class=\"blank col9\" >&nbsp;</th>\n",
       "    </tr>\n",
       "  </thead>\n",
       "  <tbody>\n",
       "    <tr>\n",
       "      <th id=\"T_621f2_level0_row0\" class=\"row_heading level0 row0\" >1</th>\n",
       "      <td id=\"T_621f2_row0_col0\" class=\"data row0 col0\" >0.511867 +/- 0.087858</td>\n",
       "      <td id=\"T_621f2_row0_col1\" class=\"data row0 col1\" >0.451685 +/- 0.119731</td>\n",
       "      <td id=\"T_621f2_row0_col2\" class=\"data row0 col2\" >0.505441 +/- 0.112298</td>\n",
       "      <td id=\"T_621f2_row0_col3\" class=\"data row0 col3\" >0.394449 +/- 0.051632</td>\n",
       "      <td id=\"T_621f2_row0_col4\" class=\"data row0 col4\" >0.466234 +/- 0.119048</td>\n",
       "      <td id=\"T_621f2_row0_col5\" class=\"data row0 col5\" >0.477981 +/- 0.112366</td>\n",
       "      <td id=\"T_621f2_row0_col6\" class=\"data row0 col6\" >0.474162 +/- 0.139445</td>\n",
       "      <td id=\"T_621f2_row0_col7\" class=\"data row0 col7\" >0.430974 +/- 0.101450</td>\n",
       "      <td id=\"T_621f2_row0_col8\" class=\"data row0 col8\" >0.497403 +/- 0.148762</td>\n",
       "      <td id=\"T_621f2_row0_col9\" class=\"data row0 col9\" >0.453315 +/- 0.128089</td>\n",
       "    </tr>\n",
       "    <tr>\n",
       "      <th id=\"T_621f2_level0_row1\" class=\"row_heading level0 row1\" >3</th>\n",
       "      <td id=\"T_621f2_row1_col0\" class=\"data row1 col0\" >0.369807 +/- 0.047575</td>\n",
       "      <td id=\"T_621f2_row1_col1\" class=\"data row1 col1\" >0.456710 +/- 0.139270</td>\n",
       "      <td id=\"T_621f2_row1_col2\" class=\"data row1 col2\" >0.485680 +/- 0.124965</td>\n",
       "      <td id=\"T_621f2_row1_col3\" class=\"data row1 col3\" >0.351549 +/- 0.007549</td>\n",
       "      <td id=\"T_621f2_row1_col4\" class=\"data row1 col4\" >0.381530 +/- 0.047884</td>\n",
       "      <td id=\"T_621f2_row1_col5\" class=\"data row1 col5\" >0.369765 +/- 0.033157</td>\n",
       "      <td id=\"T_621f2_row1_col6\" class=\"data row1 col6\" >0.408879 +/- 0.040180</td>\n",
       "      <td id=\"T_621f2_row1_col7\" class=\"data row1 col7\" >0.422978 +/- 0.150494</td>\n",
       "      <td id=\"T_621f2_row1_col8\" class=\"data row1 col8\" >0.459554 +/- 0.119175</td>\n",
       "      <td id=\"T_621f2_row1_col9\" class=\"data row1 col9\" >0.385434 +/- 0.087593</td>\n",
       "    </tr>\n",
       "    <tr>\n",
       "      <th id=\"T_621f2_level0_row2\" class=\"row_heading level0 row2\" >5</th>\n",
       "      <td id=\"T_621f2_row2_col0\" class=\"data row2 col0\" >0.442662 +/- 0.119359</td>\n",
       "      <td id=\"T_621f2_row2_col1\" class=\"data row2 col1\" >0.429955 +/- 0.132159</td>\n",
       "      <td id=\"T_621f2_row2_col2\" class=\"data row2 col2\" >0.446719 +/- 0.094948</td>\n",
       "      <td id=\"T_621f2_row2_col3\" class=\"data row2 col3\" >0.464604 +/- 0.131167</td>\n",
       "      <td id=\"T_621f2_row2_col4\" class=\"data row2 col4\" >0.576963 +/- 0.096468</td>\n",
       "      <td id=\"T_621f2_row2_col5\" class=\"data row2 col5\" >0.468874 +/- 0.159699</td>\n",
       "      <td id=\"T_621f2_row2_col6\" class=\"data row2 col6\" >0.347628 +/- 0.021161</td>\n",
       "      <td id=\"T_621f2_row2_col7\" class=\"data row2 col7\" >0.374934 +/- 0.097609</td>\n",
       "      <td id=\"T_621f2_row2_col8\" class=\"data row2 col8\" >0.473780 +/- 0.118450</td>\n",
       "      <td id=\"T_621f2_row2_col9\" class=\"data row2 col9\" >0.515559 +/- 0.103300</td>\n",
       "    </tr>\n",
       "    <tr>\n",
       "      <th id=\"T_621f2_level0_row3\" class=\"row_heading level0 row3\" >7</th>\n",
       "      <td id=\"T_621f2_row3_col0\" class=\"data row3 col0\" >0.429624 +/- 0.111421</td>\n",
       "      <td id=\"T_621f2_row3_col1\" class=\"data row3 col1\" >0.531356 +/- 0.095231</td>\n",
       "      <td id=\"T_621f2_row3_col2\" class=\"data row3 col2\" >0.505110 +/- 0.144166</td>\n",
       "      <td id=\"T_621f2_row3_col3\" class=\"data row3 col3\" >0.416917 +/- 0.128230</td>\n",
       "      <td id=\"T_621f2_row3_col4\" class=\"data row3 col4\" >0.382879 +/- 0.061316</td>\n",
       "      <td id=\"T_621f2_row3_col5\" class=\"data row3 col5\" >0.465096 +/- 0.100012</td>\n",
       "      <td id=\"T_621f2_row3_col6\" class=\"data row3 col6\" >0.415440 +/- 0.101614</td>\n",
       "      <td id=\"T_621f2_row3_col7\" class=\"data row3 col7\" >0.399839 +/- 0.064611</td>\n",
       "      <td id=\"T_621f2_row3_col8\" class=\"data row3 col8\" >0.342373 +/- 0.032030</td>\n",
       "      <td id=\"T_621f2_row3_col9\" class=\"data row3 col9\" >0.524259 +/- 0.155592</td>\n",
       "    </tr>\n",
       "    <tr>\n",
       "      <th id=\"T_621f2_level0_row4\" class=\"row_heading level0 row4\" >9</th>\n",
       "      <td id=\"T_621f2_row4_col0\" class=\"data row4 col0\" >0.527230 +/- 0.119453</td>\n",
       "      <td id=\"T_621f2_row4_col1\" class=\"data row4 col1\" >0.384034 +/- 0.050996</td>\n",
       "      <td id=\"T_621f2_row4_col2\" class=\"data row4 col2\" >0.346303 +/- 0.074415</td>\n",
       "      <td id=\"T_621f2_row4_col3\" class=\"data row4 col3\" >0.372447 +/- 0.050466</td>\n",
       "      <td id=\"T_621f2_row4_col4\" class=\"data row4 col4\" >0.453043 +/- 0.104070</td>\n",
       "      <td id=\"T_621f2_row4_col5\" class=\"data row4 col5\" >0.354138 +/- 0.026815</td>\n",
       "      <td id=\"T_621f2_row4_col6\" class=\"data row4 col6\" >0.432179 +/- 0.116502</td>\n",
       "      <td id=\"T_621f2_row4_col7\" class=\"data row4 col7\" >0.441355 +/- 0.088397</td>\n",
       "      <td id=\"T_621f2_row4_col8\" class=\"data row4 col8\" >0.448026 +/- 0.154003</td>\n",
       "      <td id=\"T_621f2_row4_col9\" class=\"data row4 col9\" >0.368568 +/- 0.060834</td>\n",
       "    </tr>\n",
       "  </tbody>\n",
       "</table>\n"
      ],
      "text/plain": [
       "<pandas.io.formats.style.Styler at 0x7f66c4415820>"
      ]
     },
     "metadata": {},
     "output_type": "display_data"
    },
    {
     "data": {
      "text/html": [
       "<style type=\"text/css\">\n",
       "</style>\n",
       "<table id=\"T_dcc30_\">\n",
       "  <caption>WDBC (SGDClassifier)</caption>\n",
       "  <thead>\n",
       "    <tr>\n",
       "      <th class=\"blank level0\" >&nbsp;</th>\n",
       "      <th class=\"col_heading level0 col0\" >$\\eta$=0.10</th>\n",
       "      <th class=\"col_heading level0 col1\" >$\\eta$=0.20</th>\n",
       "      <th class=\"col_heading level0 col2\" >$\\eta$=0.30</th>\n",
       "      <th class=\"col_heading level0 col3\" >$\\eta$=0.40</th>\n",
       "      <th class=\"col_heading level0 col4\" >$\\eta$=0.50</th>\n",
       "      <th class=\"col_heading level0 col5\" >$\\eta$=0.60</th>\n",
       "      <th class=\"col_heading level0 col6\" >$\\eta$=0.70</th>\n",
       "      <th class=\"col_heading level0 col7\" >$\\eta$=0.80</th>\n",
       "      <th class=\"col_heading level0 col8\" >$\\eta$=0.90</th>\n",
       "      <th class=\"col_heading level0 col9\" >$\\eta$=1.00</th>\n",
       "    </tr>\n",
       "    <tr>\n",
       "      <th class=\"index_name level0\" >N_epochs</th>\n",
       "      <th class=\"blank col0\" >&nbsp;</th>\n",
       "      <th class=\"blank col1\" >&nbsp;</th>\n",
       "      <th class=\"blank col2\" >&nbsp;</th>\n",
       "      <th class=\"blank col3\" >&nbsp;</th>\n",
       "      <th class=\"blank col4\" >&nbsp;</th>\n",
       "      <th class=\"blank col5\" >&nbsp;</th>\n",
       "      <th class=\"blank col6\" >&nbsp;</th>\n",
       "      <th class=\"blank col7\" >&nbsp;</th>\n",
       "      <th class=\"blank col8\" >&nbsp;</th>\n",
       "      <th class=\"blank col9\" >&nbsp;</th>\n",
       "    </tr>\n",
       "  </thead>\n",
       "  <tbody>\n",
       "    <tr>\n",
       "      <th id=\"T_dcc30_level0_row0\" class=\"row_heading level0 row0\" >1</th>\n",
       "      <td id=\"T_dcc30_row0_col0\" class=\"data row0 col0\" >0.196802 +/- 0.051803</td>\n",
       "      <td id=\"T_dcc30_row0_col1\" class=\"data row0 col1\" >0.314563 +/- 0.146562</td>\n",
       "      <td id=\"T_dcc30_row0_col2\" class=\"data row0 col2\" >0.219624 +/- 0.091375</td>\n",
       "      <td id=\"T_dcc30_row0_col3\" class=\"data row0 col3\" >0.221223 +/- 0.091164</td>\n",
       "      <td id=\"T_dcc30_row0_col4\" class=\"data row0 col4\" >0.340910 +/- 0.130528</td>\n",
       "      <td id=\"T_dcc30_row0_col5\" class=\"data row0 col5\" >0.221270 +/- 0.125290</td>\n",
       "      <td id=\"T_dcc30_row0_col6\" class=\"data row0 col6\" >0.423832 +/- 0.233599</td>\n",
       "      <td id=\"T_dcc30_row0_col7\" class=\"data row0 col7\" >0.195327 +/- 0.102712</td>\n",
       "      <td id=\"T_dcc30_row0_col8\" class=\"data row0 col8\" >0.124732 +/- 0.080222</td>\n",
       "      <td id=\"T_dcc30_row0_col9\" class=\"data row0 col9\" >0.219469 +/- 0.237435</td>\n",
       "    </tr>\n",
       "    <tr>\n",
       "      <th id=\"T_dcc30_level0_row1\" class=\"row_heading level0 row1\" >3</th>\n",
       "      <td id=\"T_dcc30_row1_col0\" class=\"data row1 col0\" >0.351063 +/- 0.215585</td>\n",
       "      <td id=\"T_dcc30_row1_col1\" class=\"data row1 col1\" >0.397718 +/- 0.246379</td>\n",
       "      <td id=\"T_dcc30_row1_col2\" class=\"data row1 col2\" >0.247477 +/- 0.201418</td>\n",
       "      <td id=\"T_dcc30_row1_col3\" class=\"data row1 col3\" >0.365968 +/- 0.177065</td>\n",
       "      <td id=\"T_dcc30_row1_col4\" class=\"data row1 col4\" >0.226719 +/- 0.132855</td>\n",
       "      <td id=\"T_dcc30_row1_col5\" class=\"data row1 col5\" >0.142276 +/- 0.087877</td>\n",
       "      <td id=\"T_dcc30_row1_col6\" class=\"data row1 col6\" >0.084319 +/- 0.025082</td>\n",
       "      <td id=\"T_dcc30_row1_col7\" class=\"data row1 col7\" >0.170300 +/- 0.061477</td>\n",
       "      <td id=\"T_dcc30_row1_col8\" class=\"data row1 col8\" >0.121192 +/- 0.046754</td>\n",
       "      <td id=\"T_dcc30_row1_col9\" class=\"data row1 col9\" >0.140615 +/- 0.042309</td>\n",
       "    </tr>\n",
       "    <tr>\n",
       "      <th id=\"T_dcc30_level0_row2\" class=\"row_heading level0 row2\" >5</th>\n",
       "      <td id=\"T_dcc30_row2_col0\" class=\"data row2 col0\" >0.217653 +/- 0.203562</td>\n",
       "      <td id=\"T_dcc30_row2_col1\" class=\"data row2 col1\" >0.137137 +/- 0.040459</td>\n",
       "      <td id=\"T_dcc30_row2_col2\" class=\"data row2 col2\" >0.103602 +/- 0.036839</td>\n",
       "      <td id=\"T_dcc30_row2_col3\" class=\"data row2 col3\" >0.214190 +/- 0.141588</td>\n",
       "      <td id=\"T_dcc30_row2_col4\" class=\"data row2 col4\" >0.122993 +/- 0.061726</td>\n",
       "      <td id=\"T_dcc30_row2_col5\" class=\"data row2 col5\" >0.144061 +/- 0.074477</td>\n",
       "      <td id=\"T_dcc30_row2_col6\" class=\"data row2 col6\" >0.184847 +/- 0.108192</td>\n",
       "      <td id=\"T_dcc30_row2_col7\" class=\"data row2 col7\" >0.195094 +/- 0.136750</td>\n",
       "      <td id=\"T_dcc30_row2_col8\" class=\"data row2 col8\" >0.223537 +/- 0.118165</td>\n",
       "      <td id=\"T_dcc30_row2_col9\" class=\"data row2 col9\" >0.147617 +/- 0.071543</td>\n",
       "    </tr>\n",
       "    <tr>\n",
       "      <th id=\"T_dcc30_level0_row3\" class=\"row_heading level0 row3\" >7</th>\n",
       "      <td id=\"T_dcc30_row3_col0\" class=\"data row3 col0\" >0.221503 +/- 0.139846</td>\n",
       "      <td id=\"T_dcc30_row3_col1\" class=\"data row3 col1\" >0.196864 +/- 0.110674</td>\n",
       "      <td id=\"T_dcc30_row3_col2\" class=\"data row3 col2\" >0.147710 +/- 0.062872</td>\n",
       "      <td id=\"T_dcc30_row3_col3\" class=\"data row3 col3\" >0.195203 +/- 0.089370</td>\n",
       "      <td id=\"T_dcc30_row3_col4\" class=\"data row3 col4\" >0.218491 +/- 0.168919</td>\n",
       "      <td id=\"T_dcc30_row3_col5\" class=\"data row3 col5\" >0.166822 +/- 0.101118</td>\n",
       "      <td id=\"T_dcc30_row3_col6\" class=\"data row3 col6\" >0.110899 +/- 0.057129</td>\n",
       "      <td id=\"T_dcc30_row3_col7\" class=\"data row3 col7\" >0.272132 +/- 0.211178</td>\n",
       "      <td id=\"T_dcc30_row3_col8\" class=\"data row3 col8\" >0.152818 +/- 0.036813</td>\n",
       "      <td id=\"T_dcc30_row3_col9\" class=\"data row3 col9\" >0.091337 +/- 0.020302</td>\n",
       "    </tr>\n",
       "    <tr>\n",
       "      <th id=\"T_dcc30_level0_row4\" class=\"row_heading level0 row4\" >9</th>\n",
       "      <td id=\"T_dcc30_row4_col0\" class=\"data row4 col0\" >0.132091 +/- 0.084191</td>\n",
       "      <td id=\"T_dcc30_row4_col1\" class=\"data row4 col1\" >0.128272 +/- 0.043124</td>\n",
       "      <td id=\"T_dcc30_row4_col2\" class=\"data row4 col2\" >0.233613 +/- 0.097086</td>\n",
       "      <td id=\"T_dcc30_row4_col3\" class=\"data row4 col3\" >0.177597 +/- 0.101050</td>\n",
       "      <td id=\"T_dcc30_row4_col4\" class=\"data row4 col4\" >0.133504 +/- 0.051745</td>\n",
       "      <td id=\"T_dcc30_row4_col5\" class=\"data row4 col5\" >0.175578 +/- 0.084889</td>\n",
       "      <td id=\"T_dcc30_row4_col6\" class=\"data row4 col6\" >0.209176 +/- 0.139021</td>\n",
       "      <td id=\"T_dcc30_row4_col7\" class=\"data row4 col7\" >0.101941 +/- 0.020495</td>\n",
       "      <td id=\"T_dcc30_row4_col8\" class=\"data row4 col8\" >0.179196 +/- 0.127960</td>\n",
       "      <td id=\"T_dcc30_row4_col9\" class=\"data row4 col9\" >0.091337 +/- 0.034375</td>\n",
       "    </tr>\n",
       "  </tbody>\n",
       "</table>\n"
      ],
      "text/plain": [
       "<pandas.io.formats.style.Styler at 0x7f666254fc70>"
      ]
     },
     "metadata": {},
     "output_type": "display_data"
    }
   ],
   "source": [
    "display(df_pima_sk_sgd)\n",
    "display(df_wdbc_sk_sgd)"
   ]
  },
  {
   "cell_type": "markdown",
   "metadata": {},
   "source": [
    "El comportamiento de los resultados de scikit-learn para el SGDClassifier son bastante similares a los nuestros. Aunque el error varíe bastante, se podría afirmar que por norma general el aumento del número de épocas conlleva una mejora en el rendimiento. De nuevo también, mientras que el dataset de 'Pima-Indians-Diabetes' es difícilmente clasificable con el clasificador lineal, 'WDBC' obtiene unos resultados muchísimo mejores. \n",
    "\n",
    "Todo esto es de esperar ya que de todos los clasificadores lineales de la librería, este es el que se asemeja más a nuestra implementación, puesto que se basa en un clasificador por regresión lineal con entrenamiento Stochastic Gradient Descent (SGD). Por este motivo este clasificador es que el que tiene más sentido utilizar de cara a comparar los resultados con los de nuestra implementación. El clasificador estandar de LogisticRegression proporcionado por scikit-learn no tiene parámetros como la constante de aprendizaje, por lo que la comparación se complica mucho. Aún así, este clasificador tiene la ventaja de contar con una variedad de solvers, cuya eficiencia podría cambiar dependiendo del problema."
   ]
  },
  {
   "cell_type": "markdown",
   "metadata": {},
   "source": [
    "# Apartado 3"
   ]
  },
  {
   "cell_type": "code",
   "execution_count": 10,
   "metadata": {
    "scrolled": true
   },
   "outputs": [],
   "source": [
    "%matplotlib inline\n",
    "import matplotlib.pyplot as plt"
   ]
  },
  {
   "cell_type": "code",
   "execution_count": 11,
   "metadata": {},
   "outputs": [],
   "source": [
    "confusion_matrices_pima, confusion_matrices_wdbc = [], []\n",
    "classifiers_pima, classifiers_wdbc = [ClasificadorNaiveBayes(), ClasificadorKNN(k=25, norm=True), ClasificadorRegresionLogistica(n_epochs=10)], [ClasificadorNaiveBayes(), ClasificadorKNN(k=7, norm=True), ClasificadorRegresionLogistica(n_epochs=10)]\n",
    "\n",
    "for csf in classifiers_pima:\n",
    "    confusion_matrices_pima.append(csf.matriz_confusion(particion, datos_pima, seed))\n",
    "    \n",
    "for csf in classifiers_wdbc:\n",
    "    confusion_matrices_wdbc.append(csf.matriz_confusion(particion, datos_wdbc, seed))\n",
    "    \n",
    "roc_points_pima = [[m[0][1] / sum(m[:, 1]), m[0][0] / sum(m[:, 0])] for m in confusion_matrices_pima]\n",
    "roc_points_wdbc = [[m[0][1] / sum(m[:, 1]), m[0][0] / sum(m[:, 0])] for m in confusion_matrices_wdbc]"
   ]
  },
  {
   "cell_type": "code",
   "execution_count": 12,
   "metadata": {},
   "outputs": [
    {
     "data": {
      "text/html": [
       "<style type=\"text/css\">\n",
       "</style>\n",
       "<table id=\"T_99348_\">\n",
       "  <caption>Pima-Indian-Diabetes</caption>\n",
       "  <thead>\n",
       "    <tr>\n",
       "      <th class=\"blank level0\" >&nbsp;</th>\n",
       "      <th class=\"col_heading level0 col0\" >Real C1 NB</th>\n",
       "      <th class=\"col_heading level0 col1\" >Real C2 NB</th>\n",
       "      <th class=\"col_heading level0 col2\" >Real C1 KNN</th>\n",
       "      <th class=\"col_heading level0 col3\" >Real C2 KNN</th>\n",
       "      <th class=\"col_heading level0 col4\" >Real C1 RegLog</th>\n",
       "      <th class=\"col_heading level0 col5\" >Real C2 RegLog</th>\n",
       "    </tr>\n",
       "  </thead>\n",
       "  <tbody>\n",
       "    <tr>\n",
       "      <th id=\"T_99348_level0_row0\" class=\"row_heading level0 row0\" >Estimado C1</th>\n",
       "      <td id=\"T_99348_row0_col0\" class=\"data row0 col0\" >161.000000</td>\n",
       "      <td id=\"T_99348_row0_col1\" class=\"data row0 col1\" >80.000000</td>\n",
       "      <td id=\"T_99348_row0_col2\" class=\"data row0 col2\" >127.000000</td>\n",
       "      <td id=\"T_99348_row0_col3\" class=\"data row0 col3\" >49.000000</td>\n",
       "      <td id=\"T_99348_row0_col4\" class=\"data row0 col4\" >133.000000</td>\n",
       "      <td id=\"T_99348_row0_col5\" class=\"data row0 col5\" >187.000000</td>\n",
       "    </tr>\n",
       "    <tr>\n",
       "      <th id=\"T_99348_level0_row1\" class=\"row_heading level0 row1\" >Estimado C2</th>\n",
       "      <td id=\"T_99348_row1_col0\" class=\"data row1 col0\" >107.000000</td>\n",
       "      <td id=\"T_99348_row1_col1\" class=\"data row1 col1\" >420.000000</td>\n",
       "      <td id=\"T_99348_row1_col2\" class=\"data row1 col2\" >141.000000</td>\n",
       "      <td id=\"T_99348_row1_col3\" class=\"data row1 col3\" >451.000000</td>\n",
       "      <td id=\"T_99348_row1_col4\" class=\"data row1 col4\" >135.000000</td>\n",
       "      <td id=\"T_99348_row1_col5\" class=\"data row1 col5\" >313.000000</td>\n",
       "    </tr>\n",
       "  </tbody>\n",
       "</table>\n"
      ],
      "text/plain": [
       "<pandas.io.formats.style.Styler at 0x7f6661bc1250>"
      ]
     },
     "metadata": {},
     "output_type": "display_data"
    },
    {
     "data": {
      "text/html": [
       "<style type=\"text/css\">\n",
       "</style>\n",
       "<table id=\"T_05cb5_\">\n",
       "  <caption>WDBC</caption>\n",
       "  <thead>\n",
       "    <tr>\n",
       "      <th class=\"blank level0\" >&nbsp;</th>\n",
       "      <th class=\"col_heading level0 col0\" >Real C1 NB</th>\n",
       "      <th class=\"col_heading level0 col1\" >Real C2 NB</th>\n",
       "      <th class=\"col_heading level0 col2\" >Real C1 KNN</th>\n",
       "      <th class=\"col_heading level0 col3\" >Real C2 KNN</th>\n",
       "      <th class=\"col_heading level0 col4\" >Real C1 RegLog</th>\n",
       "      <th class=\"col_heading level0 col5\" >Real C2 RegLog</th>\n",
       "    </tr>\n",
       "  </thead>\n",
       "  <tbody>\n",
       "    <tr>\n",
       "      <th id=\"T_05cb5_level0_row0\" class=\"row_heading level0 row0\" >Estimado C1</th>\n",
       "      <td id=\"T_05cb5_row0_col0\" class=\"data row0 col0\" >189.000000</td>\n",
       "      <td id=\"T_05cb5_row0_col1\" class=\"data row0 col1\" >15.000000</td>\n",
       "      <td id=\"T_05cb5_row0_col2\" class=\"data row0 col2\" >197.000000</td>\n",
       "      <td id=\"T_05cb5_row0_col3\" class=\"data row0 col3\" >2.000000</td>\n",
       "      <td id=\"T_05cb5_row0_col4\" class=\"data row0 col4\" >171.000000</td>\n",
       "      <td id=\"T_05cb5_row0_col5\" class=\"data row0 col5\" >15.000000</td>\n",
       "    </tr>\n",
       "    <tr>\n",
       "      <th id=\"T_05cb5_level0_row1\" class=\"row_heading level0 row1\" >Estimado C2</th>\n",
       "      <td id=\"T_05cb5_row1_col0\" class=\"data row1 col0\" >23.000000</td>\n",
       "      <td id=\"T_05cb5_row1_col1\" class=\"data row1 col1\" >342.000000</td>\n",
       "      <td id=\"T_05cb5_row1_col2\" class=\"data row1 col2\" >15.000000</td>\n",
       "      <td id=\"T_05cb5_row1_col3\" class=\"data row1 col3\" >355.000000</td>\n",
       "      <td id=\"T_05cb5_row1_col4\" class=\"data row1 col4\" >41.000000</td>\n",
       "      <td id=\"T_05cb5_row1_col5\" class=\"data row1 col5\" >342.000000</td>\n",
       "    </tr>\n",
       "  </tbody>\n",
       "</table>\n"
      ],
      "text/plain": [
       "<pandas.io.formats.style.Styler at 0x7f6661bc19a0>"
      ]
     },
     "metadata": {},
     "output_type": "display_data"
    }
   ],
   "source": [
    "confusion_matrices_pima = pd.DataFrame(np.concatenate(confusion_matrices_pima, axis=1),\n",
    "                       columns=['Real C1 NB', 'Real C2 NB', 'Real C1 KNN', 'Real C2 KNN', 'Real C1 RegLog', 'Real C2 RegLog'],\n",
    "                       index=['Estimado C1', 'Estimado C2'])\n",
    "confusion_matrices_pima = confusion_matrices_pima.style.set_caption('Pima-Indian-Diabetes')\n",
    "\n",
    "confusion_matrices_wdbc = pd.DataFrame(np.concatenate(confusion_matrices_wdbc, axis=1),\n",
    "                       columns=['Real C1 NB', 'Real C2 NB', 'Real C1 KNN', 'Real C2 KNN', 'Real C1 RegLog', 'Real C2 RegLog'],\n",
    "                       index=['Estimado C1', 'Estimado C2'])\n",
    "confusion_matrices_wdbc = confusion_matrices_wdbc.style.set_caption('WDBC')\n",
    "\n",
    "display(confusion_matrices_pima)\n",
    "display(confusion_matrices_wdbc)"
   ]
  },
  {
   "cell_type": "code",
   "execution_count": 13,
   "metadata": {
    "scrolled": true
   },
   "outputs": [
    {
     "data": {
      "image/png": "[encoded data removed]",
      "text/plain": [
       "<Figure size 432x288 with 2 Axes>"
      ]
     },
     "metadata": {
      "needs_background": "light"
     },
     "output_type": "display_data"
    }
   ],
   "source": [
    "fig, ax = plt.subplots(1, 2)\n",
    "fig.suptitle(\"Espacio ROC\")\n",
    "fig.tight_layout()\n",
    "for axis, points, title in zip(ax.flatten(), [roc_points_pima, roc_points_wdbc], ['Pima-Indians-Diabetes', 'WDBC']):\n",
    "    axis.set_title(title)\n",
    "    axis.set_xlabel(\"FPR\")\n",
    "    axis.set_ylabel(\"TPR\")\n",
    "    axis.set_xlim([0, 1])\n",
    "    axis.set_ylim([0, 1])\n",
    "    axis.grid(True)\n",
    "    for i in range(3):\n",
    "        axis.plot(points[i][0], points[i][1], '.', ms=15)\n",
    "    axis.plot([0,1], [0,1])\n",
    "    axis.legend(['NB', 'KNN', 'LR', 'Random'])"
   ]
  },
  {
   "cell_type": "markdown",
   "metadata": {},
   "source": [
    "Como se puede apreciar, claramente 'WDBC' es un dataset mucho más fácil de tratar que 'Pima-Indians-Diabetes', ya que todos los clasificadores se encuentran en la parte superior izquierda de la gráfica (lugar ideal). En cambio, en 'Pima-Indians-Diabetes' los clasificadores no tienen tan buen rendimiento. \n",
    "\n",
    "Tanto NaiveBayes como KNN se encuentran bastante pegados a la izquierda, indicando que tienen un False Positive Ratio bastante bajo. Aún así, su True Positive Ratio no es de lo mejor, estando ambos alrededor del 0,5. El peor de todos es Regresión Logística. Como se puede apreciar, se encuentra muy cerca de la diagonal que indica el rendimiento de un clasificador aleatorio, confirmando nuestras sospechas del apartado 1. Esto tampoco implica nada excesivamente negativo del clasificador de todas formas, simplemente no es el apropiado para el problema."
   ]
  },
  {
   "cell_type": "markdown",
   "metadata": {},
   "source": [
    "# Apartado 4"
   ]
  },
  {
   "cell_type": "code",
   "execution_count": 14,
   "metadata": {},
   "outputs": [],
   "source": [
    "classifiers_reglog = [classifiers_pima[2], classifiers_wdbc[2]]\n",
    "confianzas = []\n",
    "for c, data in zip(classifiers_reglog, [datos_pima, datos_wdbc]):\n",
    "    confianzas.append(c.validacion_scores(particion, data, seed))\n",
    "    \n",
    "roc_curve_points = []\n",
    "for conf, data in zip(confianzas, [datos_pima, datos_wdbc]):\n",
    "    conf.sort(key=lambda x: x[1], reverse=True)\n",
    "    points = [[0, 0]]\n",
    "    current_point = [0, 0]\n",
    "    \n",
    "    unit_arriba = 1/np.count_nonzero(data.datos.to_numpy()[:,-1] == 1)\n",
    "    unit_derecha = 1/np.count_nonzero(data.datos.to_numpy()[:,-1] == 0)\n",
    "    for index, score in conf:\n",
    "        if data.datos.to_numpy()[index, -1] == 1:\n",
    "            current_point[1] += unit_arriba\n",
    "        else:\n",
    "            current_point[0] += unit_derecha\n",
    "        points.append([current_point[0], current_point[1]])\n",
    "    \n",
    "    roc_curve_points.append(points)"
   ]
  },
  {
   "cell_type": "code",
   "execution_count": 15,
   "metadata": {},
   "outputs": [
    {
     "data": {
      "image/png": "[encoded data removed]",
      "text/plain": [
       "<Figure size 432x288 with 2 Axes>"
      ]
     },
     "metadata": {
      "needs_background": "light"
     },
     "output_type": "display_data"
    }
   ],
   "source": [
    "fig, ax = plt.subplots(1, 2)\n",
    "fig.suptitle(\"Curva ROC Regresión Logística\")\n",
    "fig.tight_layout()\n",
    "for axis, points, title in zip(ax.flatten(), roc_curve_points, ['Pima-Indians-Diabetes', 'WDBC']):\n",
    "    axis.set_title(title)\n",
    "    axis.set_xlabel(\"FPR\")\n",
    "    axis.set_ylabel(\"TPR\")\n",
    "    axis.set_xlim([0, 1])\n",
    "    axis.set_ylim([0, 1])\n",
    "    axis.grid(True)\n",
    "    axis.plot([p[0] for p in points], [p[1] for p in points], ms='10')\n",
    "    axis.plot([0,1], [0,1])\n",
    "    axis.legend(['Curva ROC', 'Random'])"
   ]
  },
  {
   "cell_type": "markdown",
   "metadata": {},
   "source": [
    "La representación de la curva ROC muestra unos resultados muy similares a los que esperábamos habiendo observado los anteriores apartados. En el caso de 'Pima-Indian-Diabetes', el clasificador se comporta prácticamente como un clasificador aleatorio. En cambio, para 'WDBC' la curva que se obtiene es bastante buena. Esto es porque inicialmente la curva asciende muy bruscamente para luego tender a un valor constante. Lo que esto implica es que la inmensa mayoría de los datos de Clase 1 están obteniendo un score mayor que los de Clase 2 (como debería ser) haciendo que al ordenar los resultados por score y representando la curva, esta crezca muy bruscamente (todos los datos de Clase 1 con alta score) y luego tienda a moverse en horizontal (datos de Clase 2 con bajo score)."
   ]
  }
 ],
 "metadata": {
  "kernelspec": {
   "display_name": "Python 3 (ipykernel)",
   "language": "python",
   "name": "python3"
  },
  "language_info": {
   "codemirror_mode": {
    "name": "ipython",
    "version": 3
   },
   "file_extension": ".py",
   "mimetype": "text/x-python",
   "name": "python",
   "nbconvert_exporter": "python",
   "pygments_lexer": "ipython3",
   "version": "3.8.10"
  }
 },
 "nbformat": 4,
 "nbformat_minor": 2
}
